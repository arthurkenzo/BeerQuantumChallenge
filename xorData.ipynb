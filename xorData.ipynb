{
 "cells": [
  {
   "cell_type": "markdown",
   "metadata": {},
   "source": [
    "Referências:\n",
    "\n",
    "[1] REBENTROST, Patrick; MOHSENI, Masoud; LLOYD, Seth. Quantum support vector machine for big data classification. Physical review letters, v. 113, n. 13, p. 130503, 2014. \n",
    "\n",
    "[2] PARK, Jae-Eun et al. Practical application improvement to Quantum SVM: theory to practice. arXiv preprint arXiv:2012.07725, 2020.\n"
   ]
  },
  {
   "cell_type": "markdown",
   "metadata": {},
   "source": [
    "# QSVM aplicado a um problema de classificação com padrão simples"
   ]
  },
  {
   "cell_type": "markdown",
   "metadata": {},
   "source": [
    "Elaborado por:\n",
    "- Equipe Qast - Beer Quantum Challenge (Ambev+QB) 2021"
   ]
  },
  {
   "cell_type": "markdown",
   "metadata": {},
   "source": [
    "No notebook anterior:\n",
    "\n",
    "- Mostramos como o Kernel quântico consegue aprender padrões extremamente complexos do database, os quais os kernels clássicos (no mínimo os mais comuns e facilmente computáveis) não conseguem reproduzir."
   ]
  },
  {
   "cell_type": "markdown",
   "metadata": {},
   "source": [
    "Porém, complexidade não é sempre um fator positivo, principalmente em casos onde as instâncias estão distribuídas de forma bem mais simples do que no exemplo anterior. "
   ]
  },
  {
   "cell_type": "markdown",
   "metadata": {},
   "source": [
    "Neste notebook:\n",
    "\n",
    "- Vamos mostrar que QSVM consegue ter ótima acurácia em casos mais simples, onde kernels clássicos também performam bem, basta utilizar circuitos quânticos mais simples e regularização (clássica) em $L_2$ !\n",
    "\n",
    "- Com isso, justificamos a utilização do QSVM mesmo nestes casos mais simples, já que este ainda tem a vantagem de poder ser treinado exponencialmente mais rápido [1]. Ou seja, podemos utilizar mais dados do que o gargalo de complexidade clássico permite e, assim, podemos obter uma maior acurácia!\n",
    "\n",
    "- Buscamos observar a versatilidade dos kernels quânticos como discutido em [2]"
   ]
  },
  {
   "cell_type": "markdown",
   "metadata": {},
   "source": [
    "### 1. Importar bibliotecas"
   ]
  },
  {
   "cell_type": "code",
   "execution_count": 1,
   "metadata": {},
   "outputs": [
    {
     "name": "stderr",
     "output_type": "stream",
     "text": [
      "/opt/anaconda3/envs/Qiskit/lib/python3.8/site-packages/qiskit/aqua/__init__.py:86: DeprecationWarning: The package qiskit.aqua is deprecated. It was moved/refactored to qiskit-terra For more information see <https://github.com/Qiskit/qiskit-aqua/blob/main/README.md#migration-guide>\n",
      "  warn_package('aqua', 'qiskit-terra')\n"
     ]
    }
   ],
   "source": [
    "#general imports\n",
    "import pandas as pd\n",
    "import numpy as np\n",
    "import matplotlib.pyplot as plt\n",
    "\n",
    "#qiskit imports\n",
    "from qiskit import Aer\n",
    "from qiskit.aqua import QuantumInstance\n",
    "from qiskit.circuit.library import  ZFeatureMap, PauliFeatureMap\n",
    "from qiskit.aqua.algorithms import QSVM\n",
    "from qiskit_machine_learning.kernels import QuantumKernel\n",
    "\n",
    "#scikit-learn imports\n",
    "from sklearn import datasets\n",
    "from sklearn.model_selection import train_test_split\n",
    "from sklearn.preprocessing import StandardScaler\n",
    "import sklearn.svm as svm\n",
    "from sklearn.metrics import accuracy_score"
   ]
  },
  {
   "cell_type": "markdown",
   "metadata": {},
   "source": [
    "### 2. Preparar database"
   ]
  },
  {
   "cell_type": "code",
   "execution_count": 19,
   "metadata": {},
   "outputs": [
    {
     "data": {
      "image/png": "[encoded data removed]",
      "text/plain": [
       "<Figure size 432x432 with 1 Axes>"
      ]
     },
     "metadata": {
      "needs_background": "light"
     },
     "output_type": "display_data"
    }
   ],
   "source": [
    "# Import packages to do the classifying\n",
    "import numpy as np\n",
    "from sklearn.svm import SVC\n",
    "\n",
    "# Create Dataset\n",
    "np.random.seed(2)\n",
    "X_xor = np.random.randn(60, 2)\n",
    "y_xor = np.logical_xor(X_xor[:, 0] > 0,\n",
    "                       X_xor[:, 1] > 0)\n",
    "y_xor = np.where(y_xor, 1, -1)\n",
    "\n",
    "fig = plt.figure(figsize=(6,6))\n",
    "plt.scatter(X_xor[y_xor == 1, 0],\n",
    "            X_xor[y_xor == 1, 1],\n",
    "            c='b', marker='x',\n",
    "            label='1')\n",
    "plt.scatter(X_xor[y_xor == -1, 0],\n",
    "            X_xor[y_xor == -1, 1],\n",
    "            c='r',\n",
    "            marker='s',\n",
    "            label='-1')\n",
    "\n",
    "plt.xlim([-3, 3])\n",
    "plt.ylim([-3, 3])\n",
    "plt.legend(loc='best')\n",
    "plt.tight_layout()\n",
    "plt.show()"
   ]
  },
  {
   "cell_type": "markdown",
   "metadata": {},
   "source": [
    "Este database é concebido para que o kernel clássico rbf tenha um ótimo desempenho. O rbf é possivelmente o kernel clássico mais utilizado [2]."
   ]
  },
  {
   "cell_type": "markdown",
   "metadata": {},
   "source": [
    "### 3. Separar e normalizar dados"
   ]
  },
  {
   "cell_type": "code",
   "execution_count": 20,
   "metadata": {},
   "outputs": [],
   "source": [
    "#separate\n",
    "Xtrain, Xtest, ytrain, ytest = train_test_split(X_xor, y_xor, test_size=0.2, random_state=42)"
   ]
  },
  {
   "cell_type": "code",
   "execution_count": 21,
   "metadata": {},
   "outputs": [],
   "source": [
    "# Standardize\n",
    "ss = StandardScaler()\n",
    "Xtrain = ss.fit_transform(Xtrain)\n",
    "Xtest = ss.transform(Xtest)"
   ]
  },
  {
   "cell_type": "markdown",
   "metadata": {},
   "source": [
    "### 4. Classificador clássico"
   ]
  },
  {
   "cell_type": "code",
   "execution_count": 22,
   "metadata": {},
   "outputs": [],
   "source": [
    "csvc = svm.SVC(kernel='rbf')\n",
    "csvc.fit(Xtrain, ytrain)\n",
    "classical_score = csvc.score(Xtest, ytest)"
   ]
  },
  {
   "cell_type": "code",
   "execution_count": 23,
   "metadata": {},
   "outputs": [
    {
     "data": {
      "text/plain": [
       "0.8333333333333334"
      ]
     },
     "execution_count": 23,
     "metadata": {},
     "output_type": "execute_result"
    }
   ],
   "source": [
    "classical_score"
   ]
  },
  {
   "cell_type": "code",
   "execution_count": 24,
   "metadata": {},
   "outputs": [
    {
     "data": {
      "image/png": "[encoded data removed]",
      "text/plain": [
       "<Figure size 432x288 with 1 Axes>"
      ]
     },
     "metadata": {},
     "output_type": "display_data"
    }
   ],
   "source": [
    "def make_meshgrid(x, y, h=.02):\n",
    "    x_min, x_max = x.min() - 1, x.max() + 1\n",
    "    y_min, y_max = y.min() - 1, y.max() + 1\n",
    "    xx, yy = np.meshgrid(np.arange(x_min, x_max, h), np.arange(y_min, y_max, h))\n",
    "    return xx, yy\n",
    "\n",
    "def plot_contours(ax, clf, xx, yy, **params):\n",
    "    Z = clf.predict(np.c_[xx.ravel(), yy.ravel()])\n",
    "    Z = Z.reshape(xx.shape)\n",
    "    out = ax.contourf(xx, yy, Z, **params)\n",
    "    return out\n",
    "\n",
    "\n",
    "fig, ax = plt.subplots()\n",
    "title = ('Superfícies de decisão com Kernel clássico')\n",
    "\n",
    "xx, yy = make_meshgrid(Xtrain[:, 0], Xtrain[:, 1], h = 0.02)\n",
    "plot_contours(ax, csvc, xx, yy, cmap=plt.cm.coolwarm, alpha=0.8)\n",
    "scatter1 = ax.scatter(Xtrain[:, 0], Xtrain[:, 1], c=ytrain, cmap=plt.cm.coolwarm, s=20, edgecolors='k', marker = '^')\n",
    "\n",
    "scatter2 = ax.scatter(Xtest[:, 0], Xtest[:, 1], c=ytest, cmap=plt.cm.coolwarm, s=20, edgecolors='k', marker = 's')\n",
    "\n",
    "\n",
    "ax.set_ylabel('x1')\n",
    "ax.set_xlabel('x0')\n",
    "ax.set_xticks(())\n",
    "ax.set_yticks(())\n",
    "\n",
    "\n",
    "\n",
    "\n",
    "legend2 = ax.legend(*scatter1.legend_elements(),\n",
    "                    loc=\"lower left\", title=\"Train\")\n",
    "ax.add_artist(legend2)\n",
    "\n",
    "legend3 = ax.legend(*scatter2.legend_elements(),\n",
    "                    loc=\"lower right\", title=\"Test\")\n",
    "ax.add_artist(legend3)\n",
    "\n",
    "ax.set_ylabel('x1')\n",
    "ax.set_xlabel('x0')\n",
    "ax.set_xticks(())\n",
    "ax.set_yticks(())\n",
    "ax.set_title(title)\n",
    "plt.show()"
   ]
  },
  {
   "cell_type": "markdown",
   "metadata": {},
   "source": [
    "### 5. Classificador com kernel quântico"
   ]
  },
  {
   "cell_type": "code",
   "execution_count": 25,
   "metadata": {},
   "outputs": [],
   "source": [
    "feature_map = ZFeatureMap(feature_dimension = 2, reps = 1)\n",
    "#feature_map = PauliFeatureMap(feature_dimension = 2, reps = 1, paulis = ['Y'])\n",
    "backend = Aer.get_backend('statevector_simulator')\n",
    "\n",
    "QKernel = QuantumKernel(feature_map=feature_map, quantum_instance=backend)"
   ]
  },
  {
   "cell_type": "markdown",
   "metadata": {},
   "source": [
    " O circuito a ser utilizado deve ser simples para evitar overfit: somente uma repetição e sem emaranhamento entre os qubits"
   ]
  },
  {
   "cell_type": "code",
   "execution_count": 26,
   "metadata": {},
   "outputs": [
    {
     "name": "stderr",
     "output_type": "stream",
     "text": [
      "/opt/anaconda3/envs/Qiskit/lib/python3.8/site-packages/sympy/core/expr.py:3949: SymPyDeprecationWarning: \n",
      "\n",
      "expr_free_symbols method has been deprecated since SymPy 1.9. See\n",
      "https://github.com/sympy/sympy/issues/21494 for more info.\n",
      "\n",
      "  SymPyDeprecationWarning(feature=\"expr_free_symbols method\",\n"
     ]
    },
    {
     "data": {
      "image/png": "[encoded data removed]",
      "text/plain": [
       "<Figure size 748.652x204.68 with 1 Axes>"
      ]
     },
     "execution_count": 26,
     "metadata": {},
     "output_type": "execute_result"
    }
   ],
   "source": [
    "QKernel.construct_circuit(Xtrain[0], Xtrain[1]).decompose().decompose().draw(output= 'mpl')"
   ]
  },
  {
   "cell_type": "code",
   "execution_count": 27,
   "metadata": {},
   "outputs": [],
   "source": [
    "matrix_train = QKernel.evaluate(x_vec=Xtrain)\n",
    "matrix_test = QKernel.evaluate(x_vec=Xtest, y_vec=Xtrain)\n",
    "\n",
    "\n",
    "def q_kernel(X, Y):\n",
    "    return np.dot(np.dot(X, matrix_train), Y.T)\n",
    "\n",
    "\n",
    "\n",
    "qsvc = svm.SVC(kernel=q_kernel, C= 0.5)\n",
    "qsvc.fit(matrix_train, ytrain)\n",
    "quantum_score = qsvc.score(matrix_test, ytest)"
   ]
  },
  {
   "cell_type": "code",
   "execution_count": 28,
   "metadata": {},
   "outputs": [
    {
     "data": {
      "text/plain": [
       "0.5"
      ]
     },
     "execution_count": 28,
     "metadata": {},
     "output_type": "execute_result"
    }
   ],
   "source": [
    "quantum_score"
   ]
  },
  {
   "cell_type": "code",
   "execution_count": 24,
   "metadata": {},
   "outputs": [],
   "source": [
    "def make_meshgrid(x, y, h=.02):\n",
    "    x_min, x_max = x.min() - 1, x.max() + 1\n",
    "    y_min, y_max = y.min() - 1, y.max() + 1\n",
    "    xx, yy = np.meshgrid(np.arange(x_min, x_max, h), np.arange(y_min, y_max, h))\n",
    "    return xx, yy\n",
    "\n",
    "def plot_contours(ax, clf, xx, yy, **params):\n",
    "    Z = clf.predict(QKernel.evaluate([xx.ravel(), yy.ravel()]))\n",
    "    Z = Z.reshape(xx.shape)\n",
    "    out = ax.contourf(xx, yy, Z, **params)\n",
    "    return out\n",
    "\n",
    "\n",
    "fig, ax = plt.subplots()\n",
    "title = ('Superfícies de decisão com Kernel clássico')\n",
    "\n",
    "xx, yy = make_meshgrid(Xtrain[:, 0], Xtrain[:, 1], h = 0.5)\n",
    "plot_contours(ax, qsvc, xx, yy, cmap=plt.cm.coolwarm, alpha=0.8)\n",
    "scatter1 = ax.scatter(Xtrain[:, 0], Xtrain[:, 1], c=ytrain, cmap=plt.cm.coolwarm, s=20, edgecolors='k', marker = '^')\n",
    "\n",
    "scatter2 = ax.scatter(Xtest[:, 0], Xtest[:, 1], c=ytest, cmap=plt.cm.coolwarm, s=20, edgecolors='k', marker = 's')\n",
    "\n",
    "\n",
    "ax.set_ylabel('x1')\n",
    "ax.set_xlabel('x0')\n",
    "ax.set_xticks(())\n",
    "ax.set_yticks(())\n",
    "\n",
    "\n",
    "\n",
    "\n",
    "legend2 = ax.legend(*scatter1.legend_elements(),\n",
    "                    loc=\"lower left\", title=\"Train\")\n",
    "ax.add_artist(legend2)\n",
    "\n",
    "legend3 = ax.legend(*scatter2.legend_elements(),\n",
    "                    loc=\"lower right\", title=\"Test\")\n",
    "ax.add_artist(legend3)\n",
    "\n",
    "ax.set_ylabel('x1')\n",
    "ax.set_xlabel('x0')\n",
    "ax.set_xticks(())\n",
    "ax.set_yticks(())\n",
    "ax.set_title(title)\n",
    "plt.show()\n",
    "\n",
    "\n",
    "#Pode levar vário minutos para executar"
   ]
  }
 ],
 "metadata": {
  "interpreter": {
   "hash": "e657142f610839d2a4667429b1d6e704e999aeececf87e5fb5bc0cee0cd8d0c5"
  },
  "kernelspec": {
   "display_name": "Python 3.8.12 64-bit ('Qiskit': conda)",
   "language": "python",
   "name": "python3"
  },
  "language_info": {
   "codemirror_mode": {
    "name": "ipython",
    "version": 3
   },
   "file_extension": ".py",
   "mimetype": "text/x-python",
   "name": "python",
   "nbconvert_exporter": "python",
   "pygments_lexer": "ipython3",
   "version": "3.8.12"
  },
  "orig_nbformat": 4
 },
 "nbformat": 4,
 "nbformat_minor": 2
}
